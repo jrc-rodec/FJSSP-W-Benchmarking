{
 "cells": [
  {
   "cell_type": "code",
   "execution_count": null,
   "metadata": {},
   "outputs": [],
   "source": [
    "from greedy_solver import GreedyFJSSPWSolver\n",
    "from instances.load_benchmarks import load_fjssp_w\n",
    "import evaluation"
   ]
  },
  {
   "cell_type": "code",
   "execution_count": null,
   "metadata": {},
   "outputs": [],
   "source": [
    "example_filter = {\n",
    "    'n_operations': (50, 100),\n",
    "    'duration_variety': (0.01, 0.02),\n",
    "    'flexibility': (0.0, 0.5),\n",
    "    'n_jobs': (5, 10)\n",
    "}"
   ]
  },
  {
   "cell_type": "code",
   "execution_count": null,
   "metadata": {},
   "outputs": [],
   "source": [
    "instances = load_fjssp_w(example_filter)"
   ]
  },
  {
   "cell_type": "code",
   "execution_count": null,
   "metadata": {},
   "outputs": [],
   "source": [
    "results = dict()\n",
    "results['greedy'] = dict()\n",
    "for solver in results:\n",
    "    for instance in instances:\n",
    "        encoding = instances[instance]\n",
    "        solver = GreedyFJSSPWSolver(encoding.durationS(), encoding.job_sequence())\n",
    "        sequence, machines, worker = solver.solve()\n",
    "        start_times, machines, workers = evaluation.translate(sequence, machines, workers, encoding.durations())\n",
    "        c = evaluation.makespan(start_times, machines, workers, encoding.durations())\n",
    "        results[solver][instance] = c"
   ]
  },
  {
   "cell_type": "code",
   "execution_count": null,
   "metadata": {},
   "outputs": [],
   "source": [
    "def to_cdf_data(data):\n",
    "    results = dict()\n",
    "    for solver in data:\n",
    "        results[solver] = [data[solver][instance] for instance in data[solver]]\n",
    "    return results"
   ]
  },
  {
   "cell_type": "code",
   "execution_count": null,
   "metadata": {},
   "outputs": [],
   "source": [
    "import visualization"
   ]
  },
  {
   "cell_type": "code",
   "execution_count": null,
   "metadata": {},
   "outputs": [],
   "source": [
    "import csv\n",
    "def get_best(instances):\n",
    "    result = dict()\n",
    "    with open('instances/InstanceData/FJSSP-W/best_known.csv', 'r') as f:\n",
    "        csv_data = csv.DictReader(f, delimiter=';',  fieldnames=['name', 'fitness'])\n",
    "        for data in csv_data:\n",
    "            if data['name'] in instances:\n",
    "                result[data['name']] = data['fitness']\n",
    "known_best = get_best(list(instances.keys()))\n",
    "results['known_best'] = known_best"
   ]
  },
  {
   "cell_type": "code",
   "execution_count": null,
   "metadata": {},
   "outputs": [],
   "source": [
    "cdf_data = to_cdf_data(results)\n",
    "visualization.visualize_gaps(cdf_data)"
   ]
  }
 ],
 "metadata": {
  "language_info": {
   "name": "python"
  }
 },
 "nbformat": 4,
 "nbformat_minor": 2
}
