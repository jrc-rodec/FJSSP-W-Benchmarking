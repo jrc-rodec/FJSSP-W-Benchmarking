{
 "cells": [
  {
   "cell_type": "code",
   "execution_count": 1,
   "metadata": {},
   "outputs": [],
   "source": [
    "import csv\n",
    "import os"
   ]
  },
  {
   "cell_type": "code",
   "execution_count": 2,
   "metadata": {},
   "outputs": [],
   "source": [
    "fjssp_w = r'/instances/InstanceData/FJSSP-W/data.csv'\n",
    "fjssp = r'/instances/InstanceData/FJSSP/data.csv'\n"
   ]
  },
  {
   "cell_type": "markdown",
   "metadata": {},
   "source": [
    "Select Problem"
   ]
  },
  {
   "cell_type": "code",
   "execution_count": 3,
   "metadata": {},
   "outputs": [],
   "source": [
    "path = os.getcwd() + fjssp_w\n",
    "#path = fjssp"
   ]
  },
  {
   "cell_type": "markdown",
   "metadata": {},
   "source": [
    "Read Data"
   ]
  },
  {
   "cell_type": "code",
   "execution_count": 4,
   "metadata": {},
   "outputs": [],
   "source": [
    "data = []\n",
    "with open(path, 'r', newline='') as f:\n",
    "    reader = csv.reader(f)\n",
    "    for row in reader:\n",
    "        data.append(row)"
   ]
  },
  {
   "cell_type": "code",
   "execution_count": 5,
   "metadata": {},
   "outputs": [],
   "source": [
    "header = data[0]\n",
    "data = data[1:]"
   ]
  },
  {
   "cell_type": "code",
   "execution_count": 6,
   "metadata": {},
   "outputs": [],
   "source": [
    "def filter(bounds : dict):\n",
    "    count = dict()\n",
    "    for bound in bounds:\n",
    "        index = header.index(bound)\n",
    "        lb = bounds[bound][0]\n",
    "        ub = bounds[bound][1]\n",
    "        for instance in data:\n",
    "            if float(instance[index]) >= lb and float(instance[index]) <= ub:\n",
    "                if instance[0] not in count:\n",
    "                    count[instance[0]] = 0\n",
    "                count[instance[0]] += 1\n",
    "    result = [instance for instance in count if count[instance] == len(bounds)] # check if the instance fits all set bounds\n",
    "    return result"
   ]
  },
  {
   "cell_type": "markdown",
   "metadata": {},
   "source": [
    "Available Attributes"
   ]
  },
  {
   "cell_type": "code",
   "execution_count": 7,
   "metadata": {},
   "outputs": [
    {
     "name": "stdout",
     "output_type": "stream",
     "text": [
      "n_operations, flexibility, duration_variety, n_machines, n_jobs, average_operations_per_job, d_max, d_min, d_distinct, d_unique, d_shared, d_average, n_worker\n"
     ]
    }
   ],
   "source": [
    "print(', '.join(header[1:]))"
   ]
  },
  {
   "cell_type": "code",
   "execution_count": 8,
   "metadata": {},
   "outputs": [],
   "source": [
    "# filter format: <attribute name>: (lower bound, upper bound)\n",
    "example_filter = {\n",
    "    'n_operations': (10, 50),\n",
    "    'flexibility': (0.1, 0.2)\n",
    "}"
   ]
  },
  {
   "cell_type": "code",
   "execution_count": 9,
   "metadata": {},
   "outputs": [],
   "source": [
    "filtered_instances = filter(example_filter)"
   ]
  },
  {
   "cell_type": "code",
   "execution_count": 10,
   "metadata": {},
   "outputs": [
    {
     "data": {
      "text/plain": [
       "35"
      ]
     },
     "execution_count": 10,
     "metadata": {},
     "output_type": "execute_result"
    }
   ],
   "source": [
    "len(filtered_instances)"
   ]
  },
  {
   "cell_type": "code",
   "execution_count": 11,
   "metadata": {},
   "outputs": [],
   "source": [
    "example_filter = {\n",
    "    'n_operations': (50, 100),\n",
    "    'duration_variety': (0.01, 0.02),\n",
    "    'flexibility': (0.0, 0.5),\n",
    "    'n_jobs': (5, 10)\n",
    "}"
   ]
  },
  {
   "cell_type": "code",
   "execution_count": 12,
   "metadata": {},
   "outputs": [],
   "source": [
    "filtered_instances = filter(example_filter)"
   ]
  },
  {
   "cell_type": "code",
   "execution_count": 13,
   "metadata": {},
   "outputs": [
    {
     "data": {
      "text/plain": [
       "3"
      ]
     },
     "execution_count": 13,
     "metadata": {},
     "output_type": "execute_result"
    }
   ],
   "source": [
    "len(filtered_instances)"
   ]
  },
  {
   "cell_type": "code",
   "execution_count": 14,
   "metadata": {},
   "outputs": [
    {
     "data": {
      "text/plain": [
       "['BrandimarteMk1', 'Hurinkvdata44', 'Hurinkvdata63']"
      ]
     },
     "execution_count": 14,
     "metadata": {},
     "output_type": "execute_result"
    }
   ],
   "source": [
    "filtered_instances"
   ]
  },
  {
   "cell_type": "code",
   "execution_count": 15,
   "metadata": {},
   "outputs": [
    {
     "data": {
      "text/plain": [
       "402"
      ]
     },
     "execution_count": 15,
     "metadata": {},
     "output_type": "execute_result"
    }
   ],
   "source": [
    "len(data)"
   ]
  },
  {
   "cell_type": "code",
   "execution_count": 34,
   "metadata": {},
   "outputs": [],
   "source": [
    "example_filter = {\n",
    "    'n_operations': (20, 100),\n",
    "    'duration_variety': (0.1, 0.2),\n",
    "    'flexibility': (0.1, 0.4)\n",
    "}"
   ]
  },
  {
   "cell_type": "code",
   "execution_count": 35,
   "metadata": {},
   "outputs": [],
   "source": [
    "filtered_instances = filter(example_filter)"
   ]
  },
  {
   "cell_type": "code",
   "execution_count": 36,
   "metadata": {},
   "outputs": [
    {
     "data": {
      "text/plain": [
       "['Hurinkrdata10',\n",
       " 'Hurinkrdata11',\n",
       " 'Hurinkrdata12',\n",
       " 'Hurinkrdata13',\n",
       " 'Hurinkrdata14',\n",
       " 'Hurinkrdata15',\n",
       " 'Hurinkrdata16',\n",
       " 'Hurinkrdata17',\n",
       " 'Hurinkrdata18',\n",
       " 'Hurinkrdata3',\n",
       " 'Hurinkrdata9',\n",
       " 'Hurinkvdata10',\n",
       " 'Hurinkvdata11',\n",
       " 'Hurinkvdata12',\n",
       " 'Hurinkvdata13',\n",
       " 'Hurinkvdata14',\n",
       " 'Hurinkvdata16',\n",
       " 'Hurinkvdata17',\n",
       " 'Hurinkvdata4',\n",
       " 'Hurinkvdata5',\n",
       " 'Hurinkvdata6',\n",
       " 'Hurinkvdata7',\n",
       " 'Hurinkvdata8',\n",
       " 'Hurinkvdata9']"
      ]
     },
     "execution_count": 36,
     "metadata": {},
     "output_type": "execute_result"
    }
   ],
   "source": [
    "filtered_instances"
   ]
  }
 ],
 "metadata": {
  "kernelspec": {
   "display_name": "Python 3",
   "language": "python",
   "name": "python3"
  },
  "language_info": {
   "codemirror_mode": {
    "name": "ipython",
    "version": 3
   },
   "file_extension": ".py",
   "mimetype": "text/x-python",
   "name": "python",
   "nbconvert_exporter": "python",
   "pygments_lexer": "ipython3",
   "version": "3.11.1"
  }
 },
 "nbformat": 4,
 "nbformat_minor": 2
}
