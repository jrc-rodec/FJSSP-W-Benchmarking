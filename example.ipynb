{
 "cells": [
  {
   "cell_type": "code",
   "execution_count": 13,
   "metadata": {},
   "outputs": [],
   "source": [
    "from greedy_solver import GreedyFJSSPSolver, GreedyFJSSPWSolver"
   ]
  },
  {
   "cell_type": "code",
   "execution_count": 14,
   "metadata": {},
   "outputs": [],
   "source": [
    "from instances.benchmark_parser import WorkerBenchmarkParser\n",
    "parser = WorkerBenchmarkParser()\n",
    "encoding = parser.parse_benchmark(r'instances/Example_Instances_FJSSP-WF/0_BehnkeGeiger_1_workers.fjs')"
   ]
  },
  {
   "cell_type": "code",
   "execution_count": 15,
   "metadata": {},
   "outputs": [],
   "source": [
    "solver = GreedyFJSSPWSolver(encoding.durations(), encoding.job_sequence())\n",
    "sequence, machines, workers = solver.solve()"
   ]
  },
  {
   "cell_type": "code",
   "execution_count": 16,
   "metadata": {},
   "outputs": [],
   "source": [
    "import evaluation\n",
    "start_times, machines, workers = evaluation.translate(sequence, machines, workers, encoding.durations())\n",
    "c = evaluation.makespan(start_times, machines, workers, encoding.durations())"
   ]
  },
  {
   "cell_type": "code",
   "execution_count": 17,
   "metadata": {},
   "outputs": [
    {
     "name": "stdout",
     "output_type": "stream",
     "text": [
      "Makespan: 197\n"
     ]
    }
   ],
   "source": [
    "print(f'Makespan: {c}')"
   ]
  }
 ],
 "metadata": {
  "kernelspec": {
   "display_name": "Python 3",
   "language": "python",
   "name": "python3"
  },
  "language_info": {
   "codemirror_mode": {
    "name": "ipython",
    "version": 3
   },
   "file_extension": ".py",
   "mimetype": "text/x-python",
   "name": "python",
   "nbconvert_exporter": "python",
   "pygments_lexer": "ipython3",
   "version": "3.11.1"
  }
 },
 "nbformat": 4,
 "nbformat_minor": 2
}
