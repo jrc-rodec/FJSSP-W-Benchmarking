{
 "cells": [
  {
   "cell_type": "code",
   "execution_count": 2,
   "metadata": {},
   "outputs": [],
   "source": [
    "from util.greedy_solver import GreedyFJSSPSolver, GreedyFJSSPWSolver"
   ]
  },
  {
   "cell_type": "code",
   "execution_count": 3,
   "metadata": {},
   "outputs": [],
   "source": [
    "from util.benchmark_parser import WorkerBenchmarkParser\n",
    "parser = WorkerBenchmarkParser()\n",
    "encoding = parser.parse_benchmark(r'instances/Example_Instances_FJSSP-WF/Behnke1.fjs')"
   ]
  },
  {
   "cell_type": "code",
   "execution_count": 4,
   "metadata": {},
   "outputs": [],
   "source": [
    "solver = GreedyFJSSPWSolver(encoding.durations(), encoding.job_sequence())\n",
    "sequence, machines, workers = solver.solve()"
   ]
  },
  {
   "cell_type": "code",
   "execution_count": 5,
   "metadata": {},
   "outputs": [],
   "source": [
    "import util.evaluation as evaluation\n",
    "start_times, machines, workers = evaluation.translate(sequence, machines, workers, encoding.durations()) # necessary because the solver does not provide the start times of the schedule\n",
    "c = evaluation.makespan(start_times, machines, workers, encoding.durations())"
   ]
  },
  {
   "cell_type": "code",
   "execution_count": 6,
   "metadata": {},
   "outputs": [
    {
     "name": "stdout",
     "output_type": "stream",
     "text": [
      "Makespan: 161\n"
     ]
    }
   ],
   "source": [
    "print(f'Makespan: {c}')"
   ]
  }
 ],
 "metadata": {
  "kernelspec": {
   "display_name": "Python 3",
   "language": "python",
   "name": "python3"
  },
  "language_info": {
   "codemirror_mode": {
    "name": "ipython",
    "version": 3
   },
   "file_extension": ".py",
   "mimetype": "text/x-python",
   "name": "python",
   "nbconvert_exporter": "python",
   "pygments_lexer": "ipython3",
   "version": "3.11.1"
  }
 },
 "nbformat": 4,
 "nbformat_minor": 2
}
